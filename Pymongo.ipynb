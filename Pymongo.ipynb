{
 "cells": [
  {
   "cell_type": "markdown",
   "metadata": {},
   "source": [
    "### Pymongo"
   ]
  },
  {
   "cell_type": "code",
   "execution_count": 1,
   "metadata": {},
   "outputs": [],
   "source": [
    "#import the pymongo library\n",
    "import pymongo"
   ]
  },
  {
   "cell_type": "code",
   "execution_count": 2,
   "metadata": {},
   "outputs": [],
   "source": [
    "DEFAULT_CONNECTION_URL=\"mongodb://localhost:27017/\"\n",
    "db_name=\"Praneeth1\"\n",
    "\n",
    "#Establish a connection with pymongo database\n",
    "client=pymongo.MongoClient(DEFAULT_CONNECTION_URL)\n",
    "\n",
    "#Create a database \n",
    "database= client[db_name]"
   ]
  },
  {
   "cell_type": "code",
   "execution_count": 3,
   "metadata": {},
   "outputs": [
    {
     "name": "stderr",
     "output_type": "stream",
     "text": [
      "<ipython-input-3-e58c976a531f>:2: DeprecationWarning: database_names is deprecated. Use list_database_names instead.\n",
      "  client.database_names()\n"
     ]
    },
    {
     "data": {
      "text/plain": [
       "['admin', 'config', 'local']"
      ]
     },
     "execution_count": 3,
     "metadata": {},
     "output_type": "execute_result"
    }
   ],
   "source": [
    "#Check the what the existing list of db\n",
    "client.database_names()"
   ]
  },
  {
   "cell_type": "code",
   "execution_count": 4,
   "metadata": {},
   "outputs": [
    {
     "name": "stdout",
     "output_type": "stream",
     "text": [
      "DB: 'Praneeth1' not yet present in the selected database\n"
     ]
    }
   ],
   "source": [
    "#Let's verify the first that we are created our database in our list or not\n",
    "#we'll use the following functions\n",
    "\n",
    "def db_exists(df_list,client):\n",
    "    db_names=client.list_database_names()\n",
    "    if db_name in db_names:\n",
    "        print(f\"DB: '{db_name}' exists\")\n",
    "        \n",
    "        return True\n",
    "    print(f\"DB: '{db_name}' not yet present in the selected database\")\n",
    "    return False\n",
    "\n",
    "_=db_exists(df_list=db_name,client=client)"
   ]
  },
  {
   "cell_type": "markdown",
   "metadata": {},
   "source": [
    "### Step 2 Create a Collection"
   ]
  },
  {
   "cell_type": "code",
   "execution_count": 6,
   "metadata": {},
   "outputs": [],
   "source": [
    "Collection_name=\"Product_1\"\n",
    "collection=database[Collection_name]"
   ]
  },
  {
   "cell_type": "code",
   "execution_count": 10,
   "metadata": {},
   "outputs": [
    {
     "name": "stdout",
     "output_type": "stream",
     "text": [
      "Collection: 'Product_1' in database: 'Praneeth1' doesn't exists in our database\n"
     ]
    }
   ],
   "source": [
    "#Let's verify whether we have a database in our list or not\n",
    "#Let's check it by using this function\n",
    "def existance_Database(collectoion_name,db_name,db):\n",
    "    collection_list=db.list_collection_names()\n",
    "    \n",
    "    if collectoion_name in collection_list:\n",
    "        print(f\"Collection: '{collectoion_name}' in database: '{db_name}' exits\")\n",
    "        return True\n",
    "    print(f\"Collection: '{collectoion_name}' in database: '{db_name}' doesn't exists in our database\")\n",
    "    return False\n",
    "_=existance_Database(collectoion_name=Collection_name,db_name=db_name,db=database)"
   ]
  },
  {
   "cell_type": "code",
   "execution_count": 11,
   "metadata": {},
   "outputs": [
    {
     "data": {
      "text/plain": [
       "<pymongo.results.InsertOneResult at 0x23f49f5c140>"
      ]
     },
     "execution_count": 11,
     "metadata": {},
     "output_type": "execute_result"
    }
   ],
   "source": [
    "#insert a record in our database\n",
    "record={\"Company_name\":\"Ai_innovative_solutions\",\n",
    "       \"Registerd_id\":100-12-56,\n",
    "       \"Location\":\"Hyderabad\",\n",
    "       \"State\":\"Telangana\",\n",
    "       \"Country\":\"India\"}\n",
    "collection.insert_one(record)"
   ]
  },
  {
   "cell_type": "code",
   "execution_count": 12,
   "metadata": {},
   "outputs": [
    {
     "name": "stdout",
     "output_type": "stream",
     "text": [
      "Collection: 'Product_1' in database: 'Praneeth1' exits\n"
     ]
    }
   ],
   "source": [
    "_ = existance_Database(collectoion_name=Collection_name,db_name=db_name,db=database)"
   ]
  },
  {
   "cell_type": "code",
   "execution_count": 13,
   "metadata": {},
   "outputs": [
    {
     "name": "stdout",
     "output_type": "stream",
     "text": [
      "DB: 'Praneeth1' exists\n"
     ]
    }
   ],
   "source": [
    "#Verify our database\n",
    "_=db_exists(db_name,client=client)"
   ]
  },
  {
   "cell_type": "code",
   "execution_count": 14,
   "metadata": {},
   "outputs": [
    {
     "name": "stdout",
     "output_type": "stream",
     "text": [
      "Collection: 'Product_1' in database: 'Praneeth1' exits\n"
     ]
    }
   ],
   "source": [
    "#Verify our collection\n",
    "_=existance_Database(collectoion_name=Collection_name,db_name=db_name,db=database)"
   ]
  },
  {
   "cell_type": "markdown",
   "metadata": {},
   "source": [
    "### Step 3 Insert multiple records"
   ]
  },
  {
   "cell_type": "code",
   "execution_count": 16,
   "metadata": {},
   "outputs": [],
   "source": [
    "multiple=[\n",
    "    {\"Company_name\":\"Ineuron\",\n",
    "    \"Registerd_id\":140-518,\n",
    "    \"Location\":\"Bangalore\",\n",
    "    \"State\":\"Karnataka\",\n",
    "    \"Country\":\"India\"},\n",
    "    \n",
    "    {\"Company_name\":\"Applied_ai\",\n",
    "    \"Registerd_id\":46-45-78,\n",
    "    \"Location\":\"Mumbai\",\n",
    "    \"State\":\"Maharastra\",\n",
    "    \"Country\":\"India\"},\n",
    "    \n",
    "    {\"Company_name\":\"Amazon\",\n",
    "    \"Registerd_id\":256-230,\n",
    "    \"Location\":\"Washington\",\n",
    "    \"State\":\"Kentuky\",\n",
    "    \"Country\":\"USA\"},\n",
    "    \n",
    "    {\"Company_name\":\"Flipkart\",\n",
    "    \"Registerd_id\":856-123,\n",
    "    \"Location\":\"Bangalore\",\n",
    "    \"State\":\"Karnataka\",\n",
    "    \"Country\":\"India\"}\n",
    "]"
   ]
  },
  {
   "cell_type": "code",
   "execution_count": 18,
   "metadata": {},
   "outputs": [],
   "source": [
    "rec=collection.insert_many(multiple)"
   ]
  },
  {
   "cell_type": "code",
   "execution_count": 22,
   "metadata": {},
   "outputs": [
    {
     "name": "stdout",
     "output_type": "stream",
     "text": [
      "'0'-----'606006071682f574c6852e97'\n",
      "'1'-----'606006071682f574c6852e98'\n",
      "'2'-----'606006071682f574c6852e99'\n",
      "'3'-----'606006071682f574c6852e9a'\n"
     ]
    }
   ],
   "source": [
    "#Let's print the unique that we have inserted record\n",
    "uni=rec.inserted_ids\n",
    "\n",
    "for idx,unique_ids in enumerate(uni):\n",
    "    print(f\"'{idx}'-----'{unique_ids}'\")"
   ]
  },
  {
   "cell_type": "markdown",
   "metadata": {},
   "source": [
    "You can Overide the id by giving a user defind as shown below"
   ]
  },
  {
   "cell_type": "code",
   "execution_count": 35,
   "metadata": {},
   "outputs": [],
   "source": [
    "collection_name=\"Product2\"\n",
    "product=database[collection_name]\n",
    "\n",
    "list_of_records=[\n",
    "    {\"_id\":\"0\",\n",
    "    \"Name\":\"Praneeth\",\n",
    "    \"Roll_no\":\"17jh5a0301\",\n",
    "    \"Company_name\":\"Ineuron\"},\n",
    "    \n",
    "    {\"_id\":\"1\",\n",
    "    \"Name\":\"Sudhanshu\",\n",
    "    \"Roll_no\":\"45gh102k\",\n",
    "    \"Company_name\":\"Apllied_ai\"}\n",
    "]\n",
    "\n",
    "rec2=product.insert_many(list_of_records)"
   ]
  },
  {
   "cell_type": "code",
   "execution_count": 36,
   "metadata": {},
   "outputs": [
    {
     "name": "stdout",
     "output_type": "stream",
     "text": [
      "'0'---'0'\n",
      "'1'---'1'\n"
     ]
    }
   ],
   "source": [
    "index_id=rec2.inserted_ids\n",
    "\n",
    "for idx,unique in enumerate(index_id):\n",
    "    print(f\"'{idx}'---'{unique}'\")"
   ]
  },
  {
   "cell_type": "markdown",
   "metadata": {},
   "source": [
    "### Finding methods in MongoDB"
   ]
  },
  {
   "cell_type": "code",
   "execution_count": 38,
   "metadata": {},
   "outputs": [
    {
     "name": "stdout",
     "output_type": "stream",
     "text": [
      "The first record of the collection: 'Product2' and first record is '{'_id': '0', 'Name': 'Praneeth', 'Roll_no': '17jh5a0301', 'Company_name': 'Ineuron'}'\n"
     ]
    }
   ],
   "source": [
    "find_first_rcord=product.find_one()\n",
    "print(f\"The first record of the collection: '{collection_name}' and first record is '{find_first_rcord}'\")"
   ]
  },
  {
   "cell_type": "code",
   "execution_count": 41,
   "metadata": {},
   "outputs": [
    {
     "name": "stdout",
     "output_type": "stream",
     "text": [
      "Product2\n",
      "'0'----'{'_id': '0', 'Name': 'Praneeth', 'Roll_no': '17jh5a0301', 'Company_name': 'Ineuron'}'\n",
      "'1'----'{'_id': '1', 'Name': 'Sudhanshu', 'Roll_no': '45gh102k', 'Company_name': 'Apllied_ai'}'\n"
     ]
    }
   ],
   "source": [
    "#Find all records in our database colection\\\n",
    "all_record=product.find()\n",
    "print(collection_name)\n",
    "for idx,record in enumerate(all_record):\n",
    "    print(f\"'{idx}'----'{record}'\")"
   ]
  },
  {
   "cell_type": "code",
   "execution_count": 46,
   "metadata": {},
   "outputs": [
    {
     "name": "stdout",
     "output_type": "stream",
     "text": [
      "'0'--'{'_id': '0', 'Name': 'Praneeth', 'Company_name': 'Ineuron'}'\n",
      "'1'--'{'_id': '1', 'Name': 'Sudhanshu', 'Company_name': 'Apllied_ai'}'\n"
     ]
    }
   ],
   "source": [
    "#Find all the record at present in the once\n",
    "all_record_column=product.find({},{\"Name\",\"Company_name\"})\n",
    "\n",
    "for idx,record in enumerate(all_record_column):\n",
    "    print(f\"'{idx}'--'{record}'\")"
   ]
  },
  {
   "cell_type": "markdown",
   "metadata": {},
   "source": [
    "### Queory or filter out data"
   ]
  },
  {
   "cell_type": "code",
   "execution_count": 48,
   "metadata": {},
   "outputs": [
    {
     "name": "stdout",
     "output_type": "stream",
     "text": [
      "{'_id': '1', 'Name': 'Sudhanshu', 'Roll_no': '45gh102k', 'Company_name': 'Apllied_ai'}\n"
     ]
    }
   ],
   "source": [
    "#queory 1\n",
    "query={\"_id\":\"1\"}\n",
    "\n",
    "results=product.find(query)\n",
    "for data in results:\n",
    "    print(data)"
   ]
  },
  {
   "cell_type": "code",
   "execution_count": 50,
   "metadata": {},
   "outputs": [
    {
     "name": "stdout",
     "output_type": "stream",
     "text": [
      "{'_id': '1', 'Name': 'Sudhanshu', 'Roll_no': '45gh102k', 'Company_name': 'Apllied_ai'}\n"
     ]
    }
   ],
   "source": [
    "#queory 2\n",
    "quoery2={\"_id\":{\"$gt\":\"0\"}}   #$gt denotes greater than 0\n",
    "\n",
    "results=product.find(quoery2)\n",
    "for data in results:\n",
    "    print(data)"
   ]
  },
  {
   "cell_type": "code",
   "execution_count": 60,
   "metadata": {},
   "outputs": [
    {
     "name": "stdout",
     "output_type": "stream",
     "text": [
      "{'_id': '0', 'Name': 'Praneeth', 'Company_name': 'Ineuron'}\n"
     ]
    }
   ],
   "source": [
    "#quoery3\n",
    "queory3={\"Roll_no\":\"17jh5a0301\"}\n",
    "results=product.find(queory3,{\"Name\",\"Company_name\"})\n",
    "for data in results:\n",
    "    print(data)"
   ]
  },
  {
   "cell_type": "code",
   "execution_count": 69,
   "metadata": {},
   "outputs": [
    {
     "name": "stdout",
     "output_type": "stream",
     "text": [
      "The ceo of the company name is '{'_id': '1', 'Name': 'Sudhanshu'}'\n"
     ]
    }
   ],
   "source": [
    "#Query4\n",
    "query4={\"Company_name\":\"Apllied_ai\"}\n",
    "results=product.find(query4,{\"Name\"})\n",
    "for data in results:\n",
    "    print(f\"The ceo of the company name is '{str(data)}'\")"
   ]
  },
  {
   "cell_type": "markdown",
   "metadata": {},
   "source": [
    "### Delete one or many records in the data"
   ]
  },
  {
   "cell_type": "code",
   "execution_count": 75,
   "metadata": {},
   "outputs": [],
   "source": [
    "random_data=[\n",
    "    {'_id': '2', 'Name': 'George', 'Roll_no': '14lk564lo', 'Company_name': 'Gio'},\n",
    "    {'_id': '3', 'Name': 'hindhu', 'Roll_no': '45vb32ju', 'Company_name': 'varun'},\n",
    "    {'_id': '4', 'Name': 'shalini', 'Roll_no': '45op56gh', 'Company_name': 'Hundai'},\n",
    "]"
   ]
  },
  {
   "cell_type": "code",
   "execution_count": 76,
   "metadata": {},
   "outputs": [
    {
     "data": {
      "text/plain": [
       "<pymongo.results.InsertManyResult at 0x23f4aeb6740>"
      ]
     },
     "execution_count": 76,
     "metadata": {},
     "output_type": "execute_result"
    }
   ],
   "source": [
    "product.insert_many(random_data)"
   ]
  },
  {
   "cell_type": "code",
   "execution_count": 77,
   "metadata": {},
   "outputs": [
    {
     "data": {
      "text/plain": [
       "<pymongo.results.DeleteResult at 0x23f4abb9780>"
      ]
     },
     "execution_count": 77,
     "metadata": {},
     "output_type": "execute_result"
    }
   ],
   "source": [
    "#Let's delete one record in our database\n",
    "queory_to_delete={\"Roll_no\":\"45vb32ju\"}\n",
    "\n",
    "product.delete_one(queory_to_delete)"
   ]
  },
  {
   "cell_type": "code",
   "execution_count": 79,
   "metadata": {},
   "outputs": [
    {
     "data": {
      "text/plain": [
       "<pymongo.results.DeleteResult at 0x23f4b0bf0c0>"
      ]
     },
     "execution_count": 79,
     "metadata": {},
     "output_type": "execute_result"
    }
   ],
   "source": [
    "#Let's delete multiple records\n",
    "query_delete_many={\"_id\":{\"$gt\":\"3\"}}\n",
    "\n",
    "product.delete_many(query_delete_many)"
   ]
  },
  {
   "cell_type": "markdown",
   "metadata": {},
   "source": [
    "In order to delete all the records in our database just pass this function\n",
    "\n",
    "                             product.delete_many({})"
   ]
  },
  {
   "cell_type": "markdown",
   "metadata": {},
   "source": [
    "### Drop"
   ]
  },
  {
   "cell_type": "code",
   "execution_count": 80,
   "metadata": {},
   "outputs": [],
   "source": [
    "### Drop the entire collection\n",
    "product.drop()"
   ]
  },
  {
   "cell_type": "code",
   "execution_count": 81,
   "metadata": {},
   "outputs": [
    {
     "name": "stdout",
     "output_type": "stream",
     "text": [
      "Collection: 'Students' in database: 'Praneeth1' doesn't exists in our database\n"
     ]
    }
   ],
   "source": [
    "#Let's verify if the collection exitst in our database or not\n",
    "Collection_name=\"Students\"\n",
    "db_name=\"Praneeth1\"\n",
    "_=existance_Database(collectoion_name=Collection_name,db_name=db_name,db=database)"
   ]
  },
  {
   "cell_type": "markdown",
   "metadata": {},
   "source": [
    "### Update"
   ]
  },
  {
   "cell_type": "code",
   "execution_count": 94,
   "metadata": {},
   "outputs": [
    {
     "name": "stdout",
     "output_type": "stream",
     "text": [
      "'0':'{'_id': ObjectId('606003011682f574c6852e96'), 'Company_name': 'Ai_innovative_solutions', 'Registerd_id': 32, 'Location': 'Hyderabad', 'State': 'Telangana', 'Country': 'India'}\n",
      "\n",
      "'\n",
      "'1':'{'_id': ObjectId('606006071682f574c6852e97'), 'Company_name': 'Ineuron', 'Registerd_id': -378, 'Location': 'Bangalore', 'State': 'Karnataka', 'Country': 'India'}\n",
      "\n",
      "'\n",
      "'2':'{'_id': ObjectId('606006071682f574c6852e98'), 'Company_name': 'Applied_ai', 'Registerd_id': -77, 'Location': 'Mumbai', 'State': 'Maharastra', 'Country': 'India'}\n",
      "\n",
      "'\n",
      "'3':'{'_id': ObjectId('606006071682f574c6852e99'), 'Company_name': 'Amazon', 'Registerd_id': 26, 'Location': 'Washington', 'State': 'Kentuky', 'Country': 'USA'}\n",
      "\n",
      "'\n",
      "'4':'{'_id': ObjectId('606006071682f574c6852e9a'), 'Company_name': 'Pharma', 'Registerd_id': 733, 'Location': 'Bangalore', 'State': 'Karnataka', 'Country': 'India'}\n",
      "\n",
      "'\n"
     ]
    }
   ],
   "source": [
    "Collection_name=\"Product_1\"\n",
    "collection=database[Collection_name]\n",
    "\n",
    "all_records=collection.find()\n",
    "for idx,record in enumerate(all_records):\n",
    "    print(f\"'{idx}':'{record}\\n\\n'\")"
   ]
  },
  {
   "cell_type": "code",
   "execution_count": 95,
   "metadata": {},
   "outputs": [
    {
     "data": {
      "text/plain": [
       "<pymongo.results.UpdateResult at 0x23f49e9cd40>"
      ]
     },
     "execution_count": 95,
     "metadata": {},
     "output_type": "execute_result"
    }
   ],
   "source": [
    "present_data={\"Company_name\":\"Flipkart\"}\n",
    "new_data={\"$set\":{\"Company_name\":\"Pharma\"}}\n",
    "\n",
    "collection.update_one(present_data,new_data)"
   ]
  },
  {
   "cell_type": "code",
   "execution_count": 99,
   "metadata": {},
   "outputs": [
    {
     "name": "stdout",
     "output_type": "stream",
     "text": [
      "'0': '{'_id': ObjectId('606003011682f574c6852e96'), 'Company_name': 'Ai_innovative_solutions', 'Registerd_id': 32, 'Location': 'Hyderabad', 'State': 'Telangana', 'Country': 'India'}\n",
      "\n",
      "'\n",
      "'1': '{'_id': ObjectId('606006071682f574c6852e97'), 'Company_name': 'Ineuron', 'Registerd_id': -378, 'Location': 'Bangalore', 'State': 'Karnataka', 'Country': 'India'}\n",
      "\n",
      "'\n",
      "'2': '{'_id': ObjectId('606006071682f574c6852e98'), 'Company_name': 'Applied_ai', 'Registerd_id': -77, 'Location': 'Mumbai', 'State': 'Maharastra', 'Country': 'India'}\n",
      "\n",
      "'\n",
      "'3': '{'_id': ObjectId('606006071682f574c6852e99'), 'Company_name': 'Amazon', 'Registerd_id': 26, 'Location': 'Washington', 'State': 'Kentuky', 'Country': 'USA'}\n",
      "\n",
      "'\n",
      "'4': '{'_id': ObjectId('606006071682f574c6852e9a'), 'Company_name': 'Pharma', 'Registerd_id': 733, 'Location': 'Bangalore', 'State': 'Karnataka', 'Country': 'India'}\n",
      "\n",
      "'\n"
     ]
    }
   ],
   "source": [
    "all_record=collection.find()\n",
    "\n",
    "for idx,unique in enumerate(all_record):\n",
    "    print(f\"'{idx}': '{unique}\\n\\n'\")"
   ]
  },
  {
   "cell_type": "code",
   "execution_count": 102,
   "metadata": {},
   "outputs": [
    {
     "name": "stdout",
     "output_type": "stream",
     "text": [
      " '0': '{'_id': ObjectId('606003011682f574c6852e96'), 'Company_name': 'Ai_innovative_solutions', 'Registerd_id': 32, 'Location': 'Hyderabad', 'State': 'Telangana', 'Country': 'India'}\n",
      "\n",
      "'\n",
      " '1': '{'_id': ObjectId('606006071682f574c6852e97'), 'Company_name': 'Ineuron', 'Registerd_id': -378, 'Location': 'Bangalore', 'State': 'Karnataka', 'Country': 'India'}\n",
      "\n",
      "'\n"
     ]
    }
   ],
   "source": [
    "### Set limit to view no of records\n",
    "\n",
    "n_records=2\n",
    "\n",
    "n_record_view=collection.find().limit(n_records)\n",
    "\n",
    "for idx,uniq in enumerate(n_record_view):\n",
    "    print(f\" '{idx}': '{uniq}\\n\\n'\")"
   ]
  },
  {
   "cell_type": "code",
   "execution_count": 103,
   "metadata": {},
   "outputs": [
    {
     "name": "stdout",
     "output_type": "stream",
     "text": [
      "Collection: 'Product3' in database: 'Praneeth1' doesn't exists in our database\n"
     ]
    }
   ],
   "source": [
    "Collection_name=\"Product3\"\n",
    "collection=database[Collection_name]\n",
    "\n",
    "_=existance_Database(collectoion_name=Collection_name,db_name=db_name,db=database)"
   ]
  },
  {
   "cell_type": "code",
   "execution_count": 105,
   "metadata": {},
   "outputs": [
    {
     "data": {
      "text/plain": [
       "<pymongo.results.InsertManyResult at 0x23f4a1512c0>"
      ]
     },
     "execution_count": 105,
     "metadata": {},
     "output_type": "execute_result"
    }
   ],
   "source": [
    "#Let's create a records for our database\n",
    "records=[\n",
    "    {\"_id\":\"0\",\n",
    "    \"Name\":\"Praneeth\",\n",
    "    \"Location\":\"Bhimavaram\",\n",
    "    \"State\":\"Andhra pradesh\",\n",
    "    \"Phone\":8309116050,\n",
    "    \"Country\":\"India\"},\n",
    "    \n",
    "    {\"_id\":\"1\",\n",
    "    \"Name\":\"Rakesh\",\n",
    "    \"Location\":\"Hyderabad\",\n",
    "    \"State\":\"Telangana\",\n",
    "    \"Phone\":9856256614,\n",
    "    \"Country\":\"India\"},\n",
    "    \n",
    "    {\"_id\":\"2\",\n",
    "    \"Name\":\"Ganesh\",\n",
    "    \"Location\":\"Kentucky\",\n",
    "    \"State\":\"California\",\n",
    "    \"Phone\":452569841,\n",
    "    \"Country\":\"USA\"},\n",
    "    \n",
    "    {\"_id\":\"3\",\n",
    "    \"Name\":\"Rocky\",\n",
    "    \"Location\":\"Papaguiana\",\n",
    "    \"State\":\"Hummagui\",\n",
    "    \"Phone\":7891256312,\n",
    "    \"Country\":\"Malaysia\"}\n",
    "]\n",
    "\n",
    "collection.insert_many(records)"
   ]
  },
  {
   "cell_type": "code",
   "execution_count": 106,
   "metadata": {},
   "outputs": [
    {
     "name": "stdout",
     "output_type": "stream",
     "text": [
      "'0': '{'_id': '0', 'Name': 'Praneeth', 'Location': 'Bhimavaram', 'State': 'Andhra pradesh', 'Phone': 8309116050, 'Country': 'India'}'\n",
      "'1': '{'_id': '1', 'Name': 'Rakesh', 'Location': 'Hyderabad', 'State': 'Telangana', 'Phone': 9856256614, 'Country': 'India'}'\n",
      "'2': '{'_id': '2', 'Name': 'Ganesh', 'Location': 'Kentucky', 'State': 'California', 'Phone': 452569841, 'Country': 'USA'}'\n",
      "'3': '{'_id': '3', 'Name': 'Rocky', 'Location': 'Papaguiana', 'State': 'Hummagui', 'Phone': 7891256312, 'Country': 'Malaysia'}'\n"
     ]
    }
   ],
   "source": [
    "rec=collection.find()\n",
    "\n",
    "for idx,records in enumerate(rec):\n",
    "    print(f\"'{idx}': '{records}'\")"
   ]
  },
  {
   "cell_type": "code",
   "execution_count": 107,
   "metadata": {},
   "outputs": [
    {
     "name": "stdout",
     "output_type": "stream",
     "text": [
      "{'_id': '2', 'Name': 'Ganesh', 'Location': 'Kentucky', 'State': 'California', 'Phone': 452569841, 'Country': 'USA'}\n",
      "{'_id': '3', 'Name': 'Rocky', 'Location': 'Papaguiana', 'State': 'Hummagui', 'Phone': 7891256312, 'Country': 'Malaysia'}\n"
     ]
    }
   ],
   "source": [
    "#qeuroy 1\n",
    "query={\"_id\":{\"$gte\":\"2\"}}\n",
    "\n",
    "results=collection.find(query)\n",
    "\n",
    "for data in results:\n",
    "    print(data)"
   ]
  },
  {
   "cell_type": "code",
   "execution_count": 108,
   "metadata": {},
   "outputs": [
    {
     "name": "stdout",
     "output_type": "stream",
     "text": [
      "{'_id': '2', 'Name': 'Ganesh', 'Location': 'Kentucky'}\n"
     ]
    }
   ],
   "source": [
    "#query 2\n",
    "query2={\"Name\":\"Ganesh\"}\n",
    "\n",
    "results=collection.find(query2,{\"Name\",\"Location\"})\n",
    "for data in results:\n",
    "    print(data)"
   ]
  },
  {
   "cell_type": "code",
   "execution_count": 110,
   "metadata": {},
   "outputs": [
    {
     "name": "stdout",
     "output_type": "stream",
     "text": [
      "{'_id': '3', 'Name': 'Rocky', 'Location': 'Papaguiana', 'State': 'Hummagui', 'Phone': 7891256312, 'Country': 'Malaysia'}\n"
     ]
    }
   ],
   "source": [
    "#query 3\n",
    "query3={\"_id\":\"3\"}\n",
    "\n",
    "results=collection.find(query3)\n",
    "\n",
    "for data in results:\n",
    "    print(data)"
   ]
  },
  {
   "cell_type": "code",
   "execution_count": 111,
   "metadata": {},
   "outputs": [
    {
     "data": {
      "text/plain": [
       "<pymongo.results.UpdateResult at 0x23f4aa73f40>"
      ]
     },
     "execution_count": 111,
     "metadata": {},
     "output_type": "execute_result"
    }
   ],
   "source": [
    "#Update the record\n",
    "\n",
    "present_data={\"Name\":\"Rocky\"}\n",
    "new_data={\"$set\":{\"Name\":\"Lovely\"}}\n",
    "\n",
    "collection.update_one(present_data,new_data)"
   ]
  },
  {
   "cell_type": "code",
   "execution_count": 116,
   "metadata": {},
   "outputs": [
    {
     "name": "stdout",
     "output_type": "stream",
     "text": [
      "{'_id': '3', 'Name': 'Lovely', 'Location': 'Papaguiana', 'State': 'Hummagui', 'Phone': 7891256312, 'Country': 'Malaysia'}\n"
     ]
    }
   ],
   "source": [
    "#After update the records\n",
    "rec=collection.find({\"_id\":\"3\"})\n",
    "for data in rec:\n",
    "    print(data)"
   ]
  },
  {
   "cell_type": "code",
   "execution_count": 121,
   "metadata": {},
   "outputs": [
    {
     "data": {
      "text/plain": [
       "<pymongo.results.DeleteResult at 0x23f4aeeb600>"
      ]
     },
     "execution_count": 121,
     "metadata": {},
     "output_type": "execute_result"
    }
   ],
   "source": [
    "#Delete a record\n",
    "query_to_delete={\"Name\":\"Ganesh\"}\n",
    "\n",
    "collection.delete_one(queory_to_delete)"
   ]
  },
  {
   "cell_type": "code",
   "execution_count": null,
   "metadata": {},
   "outputs": [],
   "source": []
  }
 ],
 "metadata": {
  "kernelspec": {
   "display_name": "Python 3",
   "language": "python",
   "name": "python3"
  },
  "language_info": {
   "codemirror_mode": {
    "name": "ipython",
    "version": 3
   },
   "file_extension": ".py",
   "mimetype": "text/x-python",
   "name": "python",
   "nbconvert_exporter": "python",
   "pygments_lexer": "ipython3",
   "version": "3.8.3"
  }
 },
 "nbformat": 4,
 "nbformat_minor": 4
}
